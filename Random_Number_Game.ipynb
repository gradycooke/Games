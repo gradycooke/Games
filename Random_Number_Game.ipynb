{
 "cells": [
  {
   "cell_type": "markdown",
   "id": "27c3b71e-49bc-456d-be73-0b540f6e8ff9",
   "metadata": {},
   "source": [
    "# Random Number Game\n",
    "\n",
    "### *Author:* Grady Cooke\n",
    "### *Date:* June 15, 2025"
   ]
  },
  {
   "cell_type": "markdown",
   "id": "e1a14212-0e1b-4c18-8ed6-c27f0cfbd42f",
   "metadata": {},
   "source": [
    "## Summary"
   ]
  },
  {
   "cell_type": "code",
   "execution_count": 6,
   "id": "5fc1089a-56b9-45e8-8157-98d7352df8bc",
   "metadata": {},
   "outputs": [],
   "source": [
    "import random\n",
    "\n",
    "def random_number_game():\n",
    "    print(\"Welcome to the Random Number Game!\")\n",
    "\n",
    "    try:\n",
    "        upper_limit = int(input(\"Enter the upper limit for the number (e.g., 100): \"))\n",
    "        max_attempts = int(input(\"Enter the maximum number of guesses allowed: \"))\n",
    "    except ValueError:\n",
    "        print(\"Invalid input. Please enter valid integers.\")\n",
    "        return\n",
    "\n",
    "    number_to_guess = random.randint(1, upper_limit)\n",
    "    attempts = 0\n",
    "\n",
    "    print(f\"I'm thinking of a number between 1 and {upper_limit}. You have {max_attempts} attempts.\")\n",
    "\n",
    "    while attempts < max_attempts:\n",
    "        try:\n",
    "            guess = int(input(\"Enter your guess: \"))\n",
    "            attempts += 1\n",
    "\n",
    "            if guess < number_to_guess:\n",
    "                print(\"Too low.\")\n",
    "            elif guess > number_to_guess:\n",
    "                print(\"Too high.\")\n",
    "            else:\n",
    "                print(f\"Correct! You guessed it in {attempts} attempts.\")\n",
    "                return\n",
    "        except ValueError:\n",
    "            print(\"Please enter a valid number.\")\n",
    "            continue\n",
    "\n",
    "        print(f\"Attempts remaining: {max_attempts - attempts}\")\n",
    "\n",
    "    print(f\"Game over! The number was {number_to_guess}.\")"
   ]
  },
  {
   "cell_type": "code",
   "execution_count": 8,
   "id": "80cf0594-f2e4-4f25-ab00-07430b5ea08c",
   "metadata": {},
   "outputs": [
    {
     "name": "stdout",
     "output_type": "stream",
     "text": [
      "Welcome to the Random Number Game!\n"
     ]
    },
    {
     "name": "stdin",
     "output_type": "stream",
     "text": [
      "Enter the upper limit for the number (e.g., 100):  1000\n",
      "Enter the maximum number of guesses allowed:  100\n"
     ]
    },
    {
     "name": "stdout",
     "output_type": "stream",
     "text": [
      "I'm thinking of a number between 1 and 1000. You have 100 attempts.\n"
     ]
    },
    {
     "name": "stdin",
     "output_type": "stream",
     "text": [
      "Enter your guess:  2\n"
     ]
    },
    {
     "name": "stdout",
     "output_type": "stream",
     "text": [
      "Too low.\n",
      "Attempts remaining: 99\n"
     ]
    },
    {
     "name": "stdin",
     "output_type": "stream",
     "text": [
      "Enter your guess:  99\n"
     ]
    },
    {
     "name": "stdout",
     "output_type": "stream",
     "text": [
      "Too low.\n",
      "Attempts remaining: 98\n"
     ]
    },
    {
     "name": "stdin",
     "output_type": "stream",
     "text": [
      "Enter your guess:  500\n"
     ]
    },
    {
     "name": "stdout",
     "output_type": "stream",
     "text": [
      "Too low.\n",
      "Attempts remaining: 97\n"
     ]
    },
    {
     "name": "stdin",
     "output_type": "stream",
     "text": [
      "Enter your guess:  600\n"
     ]
    },
    {
     "name": "stdout",
     "output_type": "stream",
     "text": [
      "Too low.\n",
      "Attempts remaining: 96\n"
     ]
    },
    {
     "name": "stdin",
     "output_type": "stream",
     "text": [
      "Enter your guess:  900\n"
     ]
    },
    {
     "name": "stdout",
     "output_type": "stream",
     "text": [
      "Too high.\n",
      "Attempts remaining: 95\n"
     ]
    },
    {
     "name": "stdin",
     "output_type": "stream",
     "text": [
      "Enter your guess:  800\n"
     ]
    },
    {
     "name": "stdout",
     "output_type": "stream",
     "text": [
      "Too high.\n",
      "Attempts remaining: 94\n"
     ]
    },
    {
     "name": "stdin",
     "output_type": "stream",
     "text": [
      "Enter your guess:  700\n"
     ]
    },
    {
     "name": "stdout",
     "output_type": "stream",
     "text": [
      "Too low.\n",
      "Attempts remaining: 93\n"
     ]
    },
    {
     "name": "stdin",
     "output_type": "stream",
     "text": [
      "Enter your guess:  750\n"
     ]
    },
    {
     "name": "stdout",
     "output_type": "stream",
     "text": [
      "Too high.\n",
      "Attempts remaining: 92\n"
     ]
    },
    {
     "name": "stdin",
     "output_type": "stream",
     "text": [
      "Enter your guess:  725\n"
     ]
    },
    {
     "name": "stdout",
     "output_type": "stream",
     "text": [
      "Too low.\n",
      "Attempts remaining: 91\n"
     ]
    },
    {
     "name": "stdin",
     "output_type": "stream",
     "text": [
      "Enter your guess:  730\n"
     ]
    },
    {
     "name": "stdout",
     "output_type": "stream",
     "text": [
      "Too low.\n",
      "Attempts remaining: 90\n"
     ]
    },
    {
     "name": "stdin",
     "output_type": "stream",
     "text": [
      "Enter your guess:  735\n"
     ]
    },
    {
     "name": "stdout",
     "output_type": "stream",
     "text": [
      "Too low.\n",
      "Attempts remaining: 89\n"
     ]
    },
    {
     "name": "stdin",
     "output_type": "stream",
     "text": [
      "Enter your guess:  740\n"
     ]
    },
    {
     "name": "stdout",
     "output_type": "stream",
     "text": [
      "Too low.\n",
      "Attempts remaining: 88\n"
     ]
    },
    {
     "name": "stdin",
     "output_type": "stream",
     "text": [
      "Enter your guess:  745\n"
     ]
    },
    {
     "name": "stdout",
     "output_type": "stream",
     "text": [
      "Too low.\n",
      "Attempts remaining: 87\n"
     ]
    },
    {
     "name": "stdin",
     "output_type": "stream",
     "text": [
      "Enter your guess:  750\n"
     ]
    },
    {
     "name": "stdout",
     "output_type": "stream",
     "text": [
      "Too high.\n",
      "Attempts remaining: 86\n"
     ]
    },
    {
     "name": "stdin",
     "output_type": "stream",
     "text": [
      "Enter your guess:  746\n"
     ]
    },
    {
     "name": "stdout",
     "output_type": "stream",
     "text": [
      "Too low.\n",
      "Attempts remaining: 85\n"
     ]
    },
    {
     "name": "stdin",
     "output_type": "stream",
     "text": [
      "Enter your guess:  747\n"
     ]
    },
    {
     "name": "stdout",
     "output_type": "stream",
     "text": [
      "Too low.\n",
      "Attempts remaining: 84\n"
     ]
    },
    {
     "name": "stdin",
     "output_type": "stream",
     "text": [
      "Enter your guess:  748\n"
     ]
    },
    {
     "name": "stdout",
     "output_type": "stream",
     "text": [
      "Correct! You guessed it in 17 attempts.\n"
     ]
    }
   ],
   "source": [
    "random_number_game()"
   ]
  },
  {
   "cell_type": "code",
   "execution_count": null,
   "id": "9f3d1867-f715-4dbd-b7bd-d7b920f5431a",
   "metadata": {},
   "outputs": [],
   "source": []
  }
 ],
 "metadata": {
  "kernelspec": {
   "display_name": "Python 3 (ipykernel)",
   "language": "python",
   "name": "python3"
  },
  "language_info": {
   "codemirror_mode": {
    "name": "ipython",
    "version": 3
   },
   "file_extension": ".py",
   "mimetype": "text/x-python",
   "name": "python",
   "nbconvert_exporter": "python",
   "pygments_lexer": "ipython3",
   "version": "3.12.4"
  }
 },
 "nbformat": 4,
 "nbformat_minor": 5
}
