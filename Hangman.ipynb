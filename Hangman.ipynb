{
 "cells": [
  {
   "cell_type": "markdown",
   "id": "0c391bef-6140-456b-8c74-a8dddd4cb21f",
   "metadata": {},
   "source": [
    "# Hangman\n",
    "\n",
    "### *Author:* Grady Cooke\n",
    "### *Date:* June 16, 2025"
   ]
  },
  {
   "cell_type": "markdown",
   "id": "352b5592-a54b-47cf-b645-2268fc7badf4",
   "metadata": {},
   "source": [
    "This Jupyter Notebook contains a console-based implementation of the classic game Hangman, enhanced with a dynamic word list sourced from the Natural Language Toolkit (NLTK). The game begins by randomly selecting a word from the nltk.corpus.words collection, filtering for lowercase alphabetic words between 3 and 10 characters long to keep gameplay balanced. The player is prompted to guess one letter at a time, with feedback provided on whether their guess is correct or incorrect. The game tracks guessed letters, remaining attempts, and updates the visible word progress with each guess. Once the player either correctly guesses the full word or runs out of attempts, a final message is displayed indicating the outcome."
   ]
  },
  {
   "cell_type": "code",
   "execution_count": 2,
   "id": "5c8f5e7d-a96e-4a4b-a000-636c3713e511",
   "metadata": {},
   "outputs": [],
   "source": [
    "import random \n",
    "import nltk\n",
    "from nltk.corpus import words"
   ]
  },
  {
   "cell_type": "code",
   "execution_count": 3,
   "id": "46a1a0e9-b515-4183-a0a5-eb9594a7fb4e",
   "metadata": {},
   "outputs": [],
   "source": [
    "def get_random_word():\n",
    "    word_list = words.words()\n",
    "    # Filter to include only lowercase words of reasonable length\n",
    "    filtered = [w.lower() for w in word_list if w.isalpha() and 3 <= len(w) <= 10]\n",
    "    return random.choice(filtered)\n",
    "\n",
    "def hangman_game():\n",
    "    word = get_random_word()\n",
    "    guessed = ['_'] * len(word)\n",
    "    attempts_remaining = 6\n",
    "    guessed_letters = set()\n",
    "\n",
    "    print(\"Welcome to Hangman!\")\n",
    "    print(\"Guess the word one letter at a time.\")\n",
    "    print(f\"The word has {len(word)} letters. You have {attempts_remaining} incorrect guesses.\\n\")\n",
    "\n",
    "    while attempts_remaining > 0 and '_' in guessed:\n",
    "        print(\"Word: \", \" \".join(guessed))\n",
    "        print(\"Incorrect guesses left:\", attempts_remaining)\n",
    "        print(\"Guessed letters:\", \" \".join(sorted(guessed_letters)))\n",
    "\n",
    "        guess = input(\"Enter a letter: \").lower()\n",
    "\n",
    "        if len(guess) != 1 or not guess.isalpha():\n",
    "            print(\"Please enter a single alphabetic character.\\n\")\n",
    "            continue\n",
    "        if guess in guessed_letters:\n",
    "            print(\"You've already guessed that letter.\\n\")\n",
    "            continue\n",
    "\n",
    "        guessed_letters.add(guess)\n",
    "\n",
    "        if guess in word:\n",
    "            print(f\"Good guess! '{guess}' is in the word.\\n\")\n",
    "            for i, letter in enumerate(word):\n",
    "                if letter == guess:\n",
    "                    guessed[i] = guess\n",
    "        else:\n",
    "            print(f\"Nope, '{guess}' is not in the word.\\n\")\n",
    "            attempts_remaining -= 1\n",
    "\n",
    "    if '_' not in guessed:\n",
    "        print(\"You won! The word was:\", word)\n",
    "    else:\n",
    "        print(\"Game over! The word was:\", word)"
   ]
  },
  {
   "cell_type": "code",
   "execution_count": 4,
   "id": "219572b5-21b4-4075-95bd-148b0ed36494",
   "metadata": {},
   "outputs": [
    {
     "name": "stdout",
     "output_type": "stream",
     "text": [
      "Welcome to Hangman!\n",
      "Guess the word one letter at a time.\n",
      "The word has 10 letters. You have 6 incorrect guesses.\n",
      "\n",
      "Word:  _ _ _ _ _ _ _ _ _ _\n",
      "Incorrect guesses left: 6\n",
      "Guessed letters: \n"
     ]
    },
    {
     "name": "stdin",
     "output_type": "stream",
     "text": [
      "Enter a letter:  e\n"
     ]
    },
    {
     "name": "stdout",
     "output_type": "stream",
     "text": [
      "Good guess! 'e' is in the word.\n",
      "\n",
      "Word:  _ _ _ _ e _ _ _ _ e\n",
      "Incorrect guesses left: 6\n",
      "Guessed letters: e\n"
     ]
    },
    {
     "name": "stdin",
     "output_type": "stream",
     "text": [
      "Enter a letter:  r\n"
     ]
    },
    {
     "name": "stdout",
     "output_type": "stream",
     "text": [
      "Good guess! 'r' is in the word.\n",
      "\n",
      "Word:  _ _ r r e _ _ _ _ e\n",
      "Incorrect guesses left: 6\n",
      "Guessed letters: e r\n"
     ]
    },
    {
     "name": "stdin",
     "output_type": "stream",
     "text": [
      "Enter a letter:  s\n"
     ]
    },
    {
     "name": "stdout",
     "output_type": "stream",
     "text": [
      "Nope, 's' is not in the word.\n",
      "\n",
      "Word:  _ _ r r e _ _ _ _ e\n",
      "Incorrect guesses left: 5\n",
      "Guessed letters: e r s\n"
     ]
    },
    {
     "name": "stdin",
     "output_type": "stream",
     "text": [
      "Enter a letter:  o\n"
     ]
    },
    {
     "name": "stdout",
     "output_type": "stream",
     "text": [
      "Good guess! 'o' is in the word.\n",
      "\n",
      "Word:  _ o r r e _ _ _ _ e\n",
      "Incorrect guesses left: 5\n",
      "Guessed letters: e o r s\n"
     ]
    },
    {
     "name": "stdin",
     "output_type": "stream",
     "text": [
      "Enter a letter:  a\n"
     ]
    },
    {
     "name": "stdout",
     "output_type": "stream",
     "text": [
      "Nope, 'a' is not in the word.\n",
      "\n",
      "Word:  _ o r r e _ _ _ _ e\n",
      "Incorrect guesses left: 4\n",
      "Guessed letters: a e o r s\n"
     ]
    },
    {
     "name": "stdin",
     "output_type": "stream",
     "text": [
      "Enter a letter:  i\n"
     ]
    },
    {
     "name": "stdout",
     "output_type": "stream",
     "text": [
      "Good guess! 'i' is in the word.\n",
      "\n",
      "Word:  _ o r r e _ _ i _ e\n",
      "Incorrect guesses left: 4\n",
      "Guessed letters: a e i o r s\n"
     ]
    },
    {
     "name": "stdin",
     "output_type": "stream",
     "text": [
      "Enter a letter:  n\n"
     ]
    },
    {
     "name": "stdout",
     "output_type": "stream",
     "text": [
      "Nope, 'n' is not in the word.\n",
      "\n",
      "Word:  _ o r r e _ _ i _ e\n",
      "Incorrect guesses left: 3\n",
      "Guessed letters: a e i n o r s\n"
     ]
    },
    {
     "name": "stdin",
     "output_type": "stream",
     "text": [
      "Enter a letter:  t\n"
     ]
    },
    {
     "name": "stdout",
     "output_type": "stream",
     "text": [
      "Good guess! 't' is in the word.\n",
      "\n",
      "Word:  _ o r r e _ t i _ e\n",
      "Incorrect guesses left: 3\n",
      "Guessed letters: a e i n o r s t\n"
     ]
    },
    {
     "name": "stdin",
     "output_type": "stream",
     "text": [
      "Enter a letter:  c\n"
     ]
    },
    {
     "name": "stdout",
     "output_type": "stream",
     "text": [
      "Good guess! 'c' is in the word.\n",
      "\n",
      "Word:  c o r r e c t i _ e\n",
      "Incorrect guesses left: 3\n",
      "Guessed letters: a c e i n o r s t\n"
     ]
    },
    {
     "name": "stdin",
     "output_type": "stream",
     "text": [
      "Enter a letter:  v\n"
     ]
    },
    {
     "name": "stdout",
     "output_type": "stream",
     "text": [
      "Good guess! 'v' is in the word.\n",
      "\n",
      "You won! The word was: corrective\n"
     ]
    }
   ],
   "source": [
    "hangman_game()"
   ]
  },
  {
   "cell_type": "code",
   "execution_count": null,
   "id": "36956bbc-e564-40ae-aae4-e5458f945d56",
   "metadata": {},
   "outputs": [],
   "source": []
  }
 ],
 "metadata": {
  "kernelspec": {
   "display_name": "Python 3 (ipykernel)",
   "language": "python",
   "name": "python3"
  },
  "language_info": {
   "codemirror_mode": {
    "name": "ipython",
    "version": 3
   },
   "file_extension": ".py",
   "mimetype": "text/x-python",
   "name": "python",
   "nbconvert_exporter": "python",
   "pygments_lexer": "ipython3",
   "version": "3.12.4"
  }
 },
 "nbformat": 4,
 "nbformat_minor": 5
}
