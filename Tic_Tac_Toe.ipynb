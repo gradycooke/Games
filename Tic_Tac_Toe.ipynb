{
 "cells": [
  {
   "cell_type": "markdown",
   "id": "8be4fd4f-b4b2-4473-bf24-408d392bd386",
   "metadata": {},
   "source": [
    "# Tic Tac Toe\n",
    "\n",
    "### *Author:* Grady Cooke\n",
    "### *Date:* June 14, 2025"
   ]
  },
  {
   "cell_type": "code",
   "execution_count": 12,
   "id": "f6e6df66-6887-4f96-b0e8-1155fe11d5b1",
   "metadata": {},
   "outputs": [],
   "source": [
    "import random\n",
    "\n",
    "def print_board(board):\n",
    "    print()\n",
    "    for i in range(3):\n",
    "        print(\" | \".join(board[i * 3:(i + 1) * 3]))\n",
    "        if i < 2:\n",
    "            print(\"--+---+--\")\n",
    "    print()\n",
    "\n",
    "def check_win(board, player):\n",
    "    win_conditions = [\n",
    "        [0, 1, 2], [3, 4, 5], [6, 7, 8],  # Rows\n",
    "        [0, 3, 6], [1, 4, 7], [2, 5, 8],  # Columns\n",
    "        [0, 4, 8], [2, 4, 6]              # Diagonals\n",
    "    ]\n",
    "    return any(all(board[i] == player for i in condition) for condition in win_conditions)\n",
    "\n",
    "def get_available_moves(board):\n",
    "    return [i for i, spot in enumerate(board) if spot == \" \"]\n",
    "\n",
    "def ai_move(board):\n",
    "    # In this simple version, the AI picks the first available spot\n",
    "    for i in range(9):\n",
    "        if board[i] == \" \":\n",
    "            return i \n",
    "\n",
    "# Alternatively, use the code below to allow AI to choose a random available spot\n",
    "\n",
    "\"\"\" def ai_move(board):\n",
    "    available = [i for i, spot in enumerate(board) if spot == \" \"]\n",
    "    return random.choice(available) if available else None \"\"\"\n",
    "    \n",
    "def tic_tac_toe_game():\n",
    "    board = [\" \"] * 9\n",
    "    current_player = \"X\"  # Player is 'X', AI is 'O'\n",
    "\n",
    "    while True:\n",
    "        print_board(board)\n",
    "        if current_player == \"X\":\n",
    "            try:\n",
    "                move = int(input(\"Choose your move (1-9): \")) - 1\n",
    "                if board[move] != \" \" or not 0 <= move < 9:\n",
    "                    print(\"Invalid move. Try again.\")\n",
    "                    continue\n",
    "            except (ValueError, IndexError):\n",
    "                print(\"Please enter a number between 1 and 9.\")\n",
    "                continue\n",
    "        else:\n",
    "            move = ai_move(board)\n",
    "            print(f\"AI chooses: {move + 1}\")\n",
    "\n",
    "        board[move] = current_player\n",
    "\n",
    "        if check_win(board, current_player):\n",
    "            print_board(board)\n",
    "            print(f\"{'You' if current_player == 'X' else 'AI'} won!\")\n",
    "            break\n",
    "        elif \" \" not in board:\n",
    "            print_board(board)\n",
    "            print(\"It's a tie!\")\n",
    "            break\n",
    "\n",
    "        current_player = \"O\" if current_player == \"X\" else \"X\"\n",
    "\n"
   ]
  },
  {
   "cell_type": "code",
   "execution_count": 9,
   "id": "cbb87e54-7d6a-491a-b41b-57f751e7be0d",
   "metadata": {},
   "outputs": [
    {
     "name": "stdout",
     "output_type": "stream",
     "text": [
      "\n",
      "  |   |  \n",
      "--+---+--\n",
      "  |   |  \n",
      "--+---+--\n",
      "  |   |  \n",
      "\n"
     ]
    },
    {
     "name": "stdin",
     "output_type": "stream",
     "text": [
      "Choose your move (1-9):  1\n"
     ]
    },
    {
     "name": "stdout",
     "output_type": "stream",
     "text": [
      "\n",
      "X |   |  \n",
      "--+---+--\n",
      "  |   |  \n",
      "--+---+--\n",
      "  |   |  \n",
      "\n",
      "AI chooses: 4\n",
      "\n",
      "X |   |  \n",
      "--+---+--\n",
      "O |   |  \n",
      "--+---+--\n",
      "  |   |  \n",
      "\n"
     ]
    },
    {
     "name": "stdin",
     "output_type": "stream",
     "text": [
      "Choose your move (1-9):  9\n"
     ]
    },
    {
     "name": "stdout",
     "output_type": "stream",
     "text": [
      "\n",
      "X |   |  \n",
      "--+---+--\n",
      "O |   |  \n",
      "--+---+--\n",
      "  |   | X\n",
      "\n",
      "AI chooses: 6\n",
      "\n",
      "X |   |  \n",
      "--+---+--\n",
      "O |   | O\n",
      "--+---+--\n",
      "  |   | X\n",
      "\n"
     ]
    },
    {
     "name": "stdin",
     "output_type": "stream",
     "text": [
      "Choose your move (1-9):  5\n"
     ]
    },
    {
     "name": "stdout",
     "output_type": "stream",
     "text": [
      "\n",
      "X |   |  \n",
      "--+---+--\n",
      "O | X | O\n",
      "--+---+--\n",
      "  |   | X\n",
      "\n",
      "You won!\n"
     ]
    }
   ],
   "source": [
    "tic_tac_toe_game()"
   ]
  },
  {
   "cell_type": "code",
   "execution_count": null,
   "id": "6ad98fdf-d62a-4957-a952-f9a6158f37ae",
   "metadata": {},
   "outputs": [],
   "source": []
  }
 ],
 "metadata": {
  "kernelspec": {
   "display_name": "Python 3 (ipykernel)",
   "language": "python",
   "name": "python3"
  },
  "language_info": {
   "codemirror_mode": {
    "name": "ipython",
    "version": 3
   },
   "file_extension": ".py",
   "mimetype": "text/x-python",
   "name": "python",
   "nbconvert_exporter": "python",
   "pygments_lexer": "ipython3",
   "version": "3.12.4"
  }
 },
 "nbformat": 4,
 "nbformat_minor": 5
}
